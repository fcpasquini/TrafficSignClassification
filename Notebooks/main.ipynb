{
 "cells": [
  {
   "cell_type": "markdown",
   "metadata": {},
   "source": [
    "# Traffic Sign Classification"
   ]
  },
  {
   "cell_type": "markdown",
   "metadata": {},
   "source": [
    "This project aims to analyze images of Traffic Signs and identify the behavior that the driver has to follow according to them.\n",
    "\n",
    "There are a total of 43 possible classes. The data was previously splitted between train: test and validation. Each one was stored in a pickle file: which has the following data:\n",
    "\n",
    "- Coords: The coordinates of the location of the traffic sign;\n",
    "\n",
    "- Labels: The target of the 43 classes;\n",
    "\n",
    "- Features: The image in an array format: divided by the three color layers in a 256 RGB;\n",
    "\n",
    "- Sizes: The size of the traffic sign, in pixels. This is not the size of the image, only of the traffic sign inside the image, to allow the creation of a borderline on the sign. "
   ]
  },
  {
   "cell_type": "markdown",
   "metadata": {},
   "source": [
    "## Importing the libraries"
   ]
  },
  {
   "cell_type": "code",
   "execution_count": 9,
   "metadata": {},
   "outputs": [],
   "source": [
    "import numpy as np\n",
    "import pickle\n",
    "from keras.models import Sequential\n",
    "from keras.optimizers import Adam\n",
    "from keras.layers import Conv2D, AveragePooling2D, Dense, Flatten\n",
    "import tensorflow as tf"
   ]
  },
  {
   "cell_type": "markdown",
   "metadata": {},
   "source": [
    "## Defining the functions"
   ]
  },
  {
   "cell_type": "code",
   "execution_count": 2,
   "metadata": {},
   "outputs": [],
   "source": [
    "def get_label_text(int_label):\n",
    "    dict_labels = {0: 'Speed limit 20km/h', 1: 'Speed limit 30km/h', 2: 'Speed limit 50km/h',  3: 'Speed limit 60km/h',\n",
    "4: 'Speed limit 70km/h',  5: 'Speed limit 80km/h', 6: 'End of speed limit 80km/h',  7: 'Speed limit 100km/h', \n",
    "8: 'Speed limit 120km/h',  9: 'No passing', 10: 'No passing if over 3.5 tons', 11: 'Right-of-way at next intersection', \n",
    "12: 'Priority road', 13: 'Yield', 14: 'Stop', 15: 'No vehicles', 16: 'Vehicles over 3.5 tons prohibited', \n",
    "17: 'No entry', 18: 'General caution', 19: 'Dangerous curve to the left', 20: 'Dangerous curve to the right', \n",
    "21: 'Double curve', 22: 'Bumpy road', 23: 'Slippery road', 24: 'Road narrows on the right', 25: 'Road work', \n",
    "26: 'Traffic signals', 27: 'Pedestrians', 28: 'Children crossing', 29: 'Bicycles crossing', 30: 'Beware of ice/snow',\n",
    "31: 'Wild animals crossing', 32: 'End of speed and passing limits', 33: 'Turn right ahead', 34: 'Turn left ahead', \n",
    "35: 'Ahead only', 36: 'Go straight or right', 37: 'Go straight or left', 38: 'Keep right', 39: 'Keep left', \n",
    "40: 'Roundabout mandatory', 41: 'End of no passing', 42: 'End of no passing over 3.5 tons'}\n",
    "    return dict_labels[int_label]"
   ]
  },
  {
   "cell_type": "markdown",
   "metadata": {},
   "source": [
    "## Importing the datasets"
   ]
  },
  {
   "cell_type": "code",
   "execution_count": 3,
   "metadata": {},
   "outputs": [],
   "source": [
    "with open('../Data/train.p', 'rb') as file:\n",
    "    dict_train = pickle.load(file)\n",
    "\n",
    "with open('../Data/test.p', 'rb') as file:\n",
    "    dict_test = pickle.load(file)\n",
    "\n",
    "with open('../Data/valid.p', 'rb') as file:\n",
    "    dict_validation = pickle.load(file)"
   ]
  },
  {
   "cell_type": "code",
   "execution_count": 4,
   "metadata": {},
   "outputs": [],
   "source": [
    "x_train, y_train = dict_train['features'], dict_train['labels']\n",
    "x_test, y_test = dict_test['features'], dict_test['labels']\n",
    "x_validation, y_validation = dict_validation['features'], dict_validation['labels']"
   ]
  },
  {
   "cell_type": "markdown",
   "metadata": {},
   "source": [
    "## Creating the grayscale and normalized images"
   ]
  },
  {
   "cell_type": "code",
   "execution_count": 5,
   "metadata": {},
   "outputs": [],
   "source": [
    "x_train_gray = np.sum(x_train/3, axis = 3, keepdims=True)\n",
    "x_test_gray = np.sum(x_test/3, axis = 3, keepdims=True)\n",
    "x_validation_gray = np.sum(x_validation/3, axis = 3, keepdims=True)"
   ]
  },
  {
   "cell_type": "code",
   "execution_count": 6,
   "metadata": {},
   "outputs": [],
   "source": [
    "x_train_gray_norm = (x_train_gray-128)/128\n",
    "x_test_gray_norm = (x_test_gray-128)/128\n",
    "x_validation_gray_norm = (x_validation_gray-128)/128"
   ]
  },
  {
   "cell_type": "markdown",
   "metadata": {},
   "source": [
    "## Creating the convolutional layer"
   ]
  },
  {
   "cell_type": "code",
   "execution_count": 7,
   "metadata": {},
   "outputs": [],
   "source": [
    "cnn_model = Sequential()\n",
    "\n",
    "cnn_model.add(Conv2D(filters=6, kernel_size=(5, 5), activation='relu', input_shape=(32, 32, 1)))\n",
    "cnn_model.add(AveragePooling2D())\n",
    "\n",
    "cnn_model.add(Conv2D(filters=16, kernel_size=(5, 5), activation='relu'))\n",
    "cnn_model.add(AveragePooling2D())\n",
    "\n",
    "cnn_model.add(Flatten())\n",
    "\n",
    "cnn_model.add(Dense(units = 120, activation= 'relu'))\n",
    "\n",
    "cnn_model.add(Dense(units = 84, activation= 'relu'))\n",
    "\n",
    "cnn_model.add(Dense(units = 43, activation= 'softmax'))\n",
    "\n",
    "cnn_model.compile(loss = 'sparse_categorical_crossentropy', optimizer=Adam(learning_rate=0.001), metrics = ['accuracy'])\n",
    "\n",
    "history = cnn_model.fit(x_train_gray_norm, y_train, batch_size=500, epochs=10, verbose=0, validation_data=(x_validation_gray_norm, y_validation))"
   ]
  },
  {
   "cell_type": "markdown",
   "metadata": {},
   "source": [
    "## Saving the Keras model in a pb version"
   ]
  },
  {
   "cell_type": "code",
   "execution_count": 8,
   "metadata": {},
   "outputs": [
    {
     "ename": "NameError",
     "evalue": "name 'tf' is not defined",
     "output_type": "error",
     "traceback": [
      "\u001b[1;31m---------------------------------------------------------------------------\u001b[0m",
      "\u001b[1;31mNameError\u001b[0m                                 Traceback (most recent call last)",
      "Cell \u001b[1;32mIn[8], line 1\u001b[0m\n\u001b[1;32m----> 1\u001b[0m tf\u001b[39m.\u001b[39msaved_model\u001b[39m.\u001b[39msave(cnn_model, \u001b[39m'\u001b[39m\u001b[39m../Models/\u001b[39m\u001b[39m'\u001b[39m)\n\u001b[0;32m      3\u001b[0m tf\u001b[39m.\u001b[39mkeras\u001b[39m.\u001b[39mmodels\u001b[39m.\u001b[39msave_model(cnn_model, \u001b[39m'\u001b[39m\u001b[39m../Models/\u001b[39m\u001b[39m'\u001b[39m)\n",
      "\u001b[1;31mNameError\u001b[0m: name 'tf' is not defined"
     ]
    }
   ],
   "source": [
    "tf.saved_model.save(cnn_model, '../Models/')\n",
    "\n",
    "tf.keras.models.save_model(cnn_model, '../Models/')"
   ]
  }
 ],
 "metadata": {
  "kernelspec": {
   "display_name": "Python 3",
   "language": "python",
   "name": "python3"
  },
  "language_info": {
   "codemirror_mode": {
    "name": "ipython",
    "version": 3
   },
   "file_extension": ".py",
   "mimetype": "text/x-python",
   "name": "python",
   "nbconvert_exporter": "python",
   "pygments_lexer": "ipython3",
   "version": "3.11.2"
  },
  "orig_nbformat": 4
 },
 "nbformat": 4,
 "nbformat_minor": 2
}
